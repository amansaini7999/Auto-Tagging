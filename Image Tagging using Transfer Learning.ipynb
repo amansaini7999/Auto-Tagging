{
 "cells": [
  {
   "cell_type": "code",
   "execution_count": 1,
   "metadata": {
    "scrolled": true
   },
   "outputs": [
    {
     "name": "stderr",
     "output_type": "stream",
     "text": [
      "/home/aman/.local/lib/python3.7/site-packages/tensorflow/python/framework/dtypes.py:516: FutureWarning: Passing (type, 1) or '1type' as a synonym of type is deprecated; in a future version of numpy, it will be understood as (type, (1,)) / '(1,)type'.\n",
      "  _np_qint8 = np.dtype([(\"qint8\", np.int8, 1)])\n",
      "/home/aman/.local/lib/python3.7/site-packages/tensorflow/python/framework/dtypes.py:517: FutureWarning: Passing (type, 1) or '1type' as a synonym of type is deprecated; in a future version of numpy, it will be understood as (type, (1,)) / '(1,)type'.\n",
      "  _np_quint8 = np.dtype([(\"quint8\", np.uint8, 1)])\n",
      "/home/aman/.local/lib/python3.7/site-packages/tensorflow/python/framework/dtypes.py:518: FutureWarning: Passing (type, 1) or '1type' as a synonym of type is deprecated; in a future version of numpy, it will be understood as (type, (1,)) / '(1,)type'.\n",
      "  _np_qint16 = np.dtype([(\"qint16\", np.int16, 1)])\n",
      "/home/aman/.local/lib/python3.7/site-packages/tensorflow/python/framework/dtypes.py:519: FutureWarning: Passing (type, 1) or '1type' as a synonym of type is deprecated; in a future version of numpy, it will be understood as (type, (1,)) / '(1,)type'.\n",
      "  _np_quint16 = np.dtype([(\"quint16\", np.uint16, 1)])\n",
      "/home/aman/.local/lib/python3.7/site-packages/tensorflow/python/framework/dtypes.py:520: FutureWarning: Passing (type, 1) or '1type' as a synonym of type is deprecated; in a future version of numpy, it will be understood as (type, (1,)) / '(1,)type'.\n",
      "  _np_qint32 = np.dtype([(\"qint32\", np.int32, 1)])\n",
      "/home/aman/.local/lib/python3.7/site-packages/tensorflow/python/framework/dtypes.py:525: FutureWarning: Passing (type, 1) or '1type' as a synonym of type is deprecated; in a future version of numpy, it will be understood as (type, (1,)) / '(1,)type'.\n",
      "  np_resource = np.dtype([(\"resource\", np.ubyte, 1)])\n",
      "/home/aman/.local/lib/python3.7/site-packages/tensorboard/compat/tensorflow_stub/dtypes.py:541: FutureWarning: Passing (type, 1) or '1type' as a synonym of type is deprecated; in a future version of numpy, it will be understood as (type, (1,)) / '(1,)type'.\n",
      "  _np_qint8 = np.dtype([(\"qint8\", np.int8, 1)])\n",
      "/home/aman/.local/lib/python3.7/site-packages/tensorboard/compat/tensorflow_stub/dtypes.py:542: FutureWarning: Passing (type, 1) or '1type' as a synonym of type is deprecated; in a future version of numpy, it will be understood as (type, (1,)) / '(1,)type'.\n",
      "  _np_quint8 = np.dtype([(\"quint8\", np.uint8, 1)])\n",
      "/home/aman/.local/lib/python3.7/site-packages/tensorboard/compat/tensorflow_stub/dtypes.py:543: FutureWarning: Passing (type, 1) or '1type' as a synonym of type is deprecated; in a future version of numpy, it will be understood as (type, (1,)) / '(1,)type'.\n",
      "  _np_qint16 = np.dtype([(\"qint16\", np.int16, 1)])\n",
      "/home/aman/.local/lib/python3.7/site-packages/tensorboard/compat/tensorflow_stub/dtypes.py:544: FutureWarning: Passing (type, 1) or '1type' as a synonym of type is deprecated; in a future version of numpy, it will be understood as (type, (1,)) / '(1,)type'.\n",
      "  _np_quint16 = np.dtype([(\"quint16\", np.uint16, 1)])\n",
      "/home/aman/.local/lib/python3.7/site-packages/tensorboard/compat/tensorflow_stub/dtypes.py:545: FutureWarning: Passing (type, 1) or '1type' as a synonym of type is deprecated; in a future version of numpy, it will be understood as (type, (1,)) / '(1,)type'.\n",
      "  _np_qint32 = np.dtype([(\"qint32\", np.int32, 1)])\n",
      "/home/aman/.local/lib/python3.7/site-packages/tensorboard/compat/tensorflow_stub/dtypes.py:550: FutureWarning: Passing (type, 1) or '1type' as a synonym of type is deprecated; in a future version of numpy, it will be understood as (type, (1,)) / '(1,)type'.\n",
      "  np_resource = np.dtype([(\"resource\", np.ubyte, 1)])\n",
      "Using TensorFlow backend.\n"
     ]
    }
   ],
   "source": [
    "import numpy as np\n",
    "import pandas as pd\n",
    "import os\n",
    "import cv2\n",
    "from sklearn.preprocessing import LabelEncoder\n",
    "from tensorflow.keras.utils import to_categorical\n",
    "from keras.models import Sequential\n",
    "from keras.applications import MobileNet\n",
    "from keras.layers import Dense, GlobalAveragePooling2D\n",
    "from keras.models import Model\n",
    "from keras.callbacks import ModelCheckpoint"
   ]
  },
  {
   "cell_type": "code",
   "execution_count": 2,
   "metadata": {},
   "outputs": [
    {
     "data": {
      "text/html": [
       "<div>\n",
       "<style scoped>\n",
       "    .dataframe tbody tr th:only-of-type {\n",
       "        vertical-align: middle;\n",
       "    }\n",
       "\n",
       "    .dataframe tbody tr th {\n",
       "        vertical-align: top;\n",
       "    }\n",
       "\n",
       "    .dataframe thead th {\n",
       "        text-align: right;\n",
       "    }\n",
       "</style>\n",
       "<table border=\"1\" class=\"dataframe\">\n",
       "  <thead>\n",
       "    <tr style=\"text-align: right;\">\n",
       "      <th></th>\n",
       "      <th>Image</th>\n",
       "      <th>Class</th>\n",
       "    </tr>\n",
       "  </thead>\n",
       "  <tbody>\n",
       "    <tr>\n",
       "      <th>0</th>\n",
       "      <td>image7042.jpg</td>\n",
       "      <td>Food</td>\n",
       "    </tr>\n",
       "    <tr>\n",
       "      <th>1</th>\n",
       "      <td>image3327.jpg</td>\n",
       "      <td>misc</td>\n",
       "    </tr>\n",
       "    <tr>\n",
       "      <th>2</th>\n",
       "      <td>image10335.jpg</td>\n",
       "      <td>Attire</td>\n",
       "    </tr>\n",
       "    <tr>\n",
       "      <th>3</th>\n",
       "      <td>image8019.jpg</td>\n",
       "      <td>Food</td>\n",
       "    </tr>\n",
       "    <tr>\n",
       "      <th>4</th>\n",
       "      <td>image2128.jpg</td>\n",
       "      <td>Attire</td>\n",
       "    </tr>\n",
       "  </tbody>\n",
       "</table>\n",
       "</div>"
      ],
      "text/plain": [
       "            Image   Class\n",
       "0   image7042.jpg    Food\n",
       "1   image3327.jpg    misc\n",
       "2  image10335.jpg  Attire\n",
       "3   image8019.jpg    Food\n",
       "4   image2128.jpg  Attire"
      ]
     },
     "execution_count": 2,
     "metadata": {},
     "output_type": "execute_result"
    }
   ],
   "source": [
    "df = pd.read_csv(\"dataset/train.csv\")\n",
    "df.head()"
   ]
  },
  {
   "cell_type": "code",
   "execution_count": 3,
   "metadata": {},
   "outputs": [],
   "source": [
    "trainPath = \"dataset/Train Images/\"\n",
    "Images = os.listdir(trainPath)"
   ]
  },
  {
   "cell_type": "code",
   "execution_count": 4,
   "metadata": {},
   "outputs": [
    {
     "name": "stdout",
     "output_type": "stream",
     "text": [
      "0\n"
     ]
    }
   ],
   "source": [
    "print(len(Images)-len(df))"
   ]
  },
  {
   "cell_type": "code",
   "execution_count": 5,
   "metadata": {},
   "outputs": [
    {
     "name": "stdout",
     "output_type": "stream",
     "text": [
      "Image    0\n",
      "Class    0\n",
      "dtype: int64\n"
     ]
    }
   ],
   "source": [
    "print(df.isna().sum())"
   ]
  },
  {
   "cell_type": "code",
   "execution_count": 6,
   "metadata": {},
   "outputs": [
    {
     "data": {
      "text/html": [
       "<div>\n",
       "<style scoped>\n",
       "    .dataframe tbody tr th:only-of-type {\n",
       "        vertical-align: middle;\n",
       "    }\n",
       "\n",
       "    .dataframe tbody tr th {\n",
       "        vertical-align: top;\n",
       "    }\n",
       "\n",
       "    .dataframe thead th {\n",
       "        text-align: right;\n",
       "    }\n",
       "</style>\n",
       "<table border=\"1\" class=\"dataframe\">\n",
       "  <thead>\n",
       "    <tr style=\"text-align: right;\">\n",
       "      <th></th>\n",
       "      <th>Image</th>\n",
       "      <th>imageData</th>\n",
       "    </tr>\n",
       "  </thead>\n",
       "  <tbody>\n",
       "    <tr>\n",
       "      <th>0</th>\n",
       "      <td>image5402.jpg</td>\n",
       "      <td>[[[1.0, 1.0, 1.0], [1.0, 1.0, 1.0], [1.0, 1.0,...</td>\n",
       "    </tr>\n",
       "    <tr>\n",
       "      <th>1</th>\n",
       "      <td>image9707.jpg</td>\n",
       "      <td>[[[0.7333333333333333, 0.7529411764705882, 0.7...</td>\n",
       "    </tr>\n",
       "    <tr>\n",
       "      <th>2</th>\n",
       "      <td>image10325.jpg</td>\n",
       "      <td>[[[0.09411764705882353, 0.043137254901960784, ...</td>\n",
       "    </tr>\n",
       "    <tr>\n",
       "      <th>3</th>\n",
       "      <td>image3662.jpg</td>\n",
       "      <td>[[[0.3764705882352941, 0.592156862745098, 0.10...</td>\n",
       "    </tr>\n",
       "    <tr>\n",
       "      <th>4</th>\n",
       "      <td>image2709.jpg</td>\n",
       "      <td>[[[0.2549019607843137, 0.2627450980392157, 0.2...</td>\n",
       "    </tr>\n",
       "  </tbody>\n",
       "</table>\n",
       "</div>"
      ],
      "text/plain": [
       "            Image                                          imageData\n",
       "0   image5402.jpg  [[[1.0, 1.0, 1.0], [1.0, 1.0, 1.0], [1.0, 1.0,...\n",
       "1   image9707.jpg  [[[0.7333333333333333, 0.7529411764705882, 0.7...\n",
       "2  image10325.jpg  [[[0.09411764705882353, 0.043137254901960784, ...\n",
       "3   image3662.jpg  [[[0.3764705882352941, 0.592156862745098, 0.10...\n",
       "4   image2709.jpg  [[[0.2549019607843137, 0.2627450980392157, 0.2..."
      ]
     },
     "execution_count": 6,
     "metadata": {},
     "output_type": "execute_result"
    }
   ],
   "source": [
    "temp = []\n",
    "\n",
    "for i in range(len(df)):\n",
    "    img = cv2.imread(trainPath + Images[i])\n",
    "    img = np.resize(img, (60, 60, 3))\n",
    "    img = img.astype('float')\n",
    "    img = img/255.0\n",
    "    \n",
    "    temp.append({\"Image\" : Images[i], \"imageData\" : img})\n",
    "\n",
    "temp = pd.DataFrame(temp)\n",
    "temp.head()"
   ]
  },
  {
   "cell_type": "code",
   "execution_count": 7,
   "metadata": {},
   "outputs": [
    {
     "data": {
      "text/html": [
       "<div>\n",
       "<style scoped>\n",
       "    .dataframe tbody tr th:only-of-type {\n",
       "        vertical-align: middle;\n",
       "    }\n",
       "\n",
       "    .dataframe tbody tr th {\n",
       "        vertical-align: top;\n",
       "    }\n",
       "\n",
       "    .dataframe thead th {\n",
       "        text-align: right;\n",
       "    }\n",
       "</style>\n",
       "<table border=\"1\" class=\"dataframe\">\n",
       "  <thead>\n",
       "    <tr style=\"text-align: right;\">\n",
       "      <th></th>\n",
       "      <th>Image</th>\n",
       "      <th>Class</th>\n",
       "      <th>imageData</th>\n",
       "    </tr>\n",
       "  </thead>\n",
       "  <tbody>\n",
       "    <tr>\n",
       "      <th>0</th>\n",
       "      <td>image7042.jpg</td>\n",
       "      <td>Food</td>\n",
       "      <td>[[[0.17647058823529413, 0.17647058823529413, 0...</td>\n",
       "    </tr>\n",
       "    <tr>\n",
       "      <th>1</th>\n",
       "      <td>image3327.jpg</td>\n",
       "      <td>misc</td>\n",
       "      <td>[[[0.38823529411764707, 0.47058823529411764, 0...</td>\n",
       "    </tr>\n",
       "    <tr>\n",
       "      <th>2</th>\n",
       "      <td>image10335.jpg</td>\n",
       "      <td>Attire</td>\n",
       "      <td>[[[0.027450980392156862, 0.058823529411764705,...</td>\n",
       "    </tr>\n",
       "    <tr>\n",
       "      <th>3</th>\n",
       "      <td>image8019.jpg</td>\n",
       "      <td>Food</td>\n",
       "      <td>[[[0.10588235294117647, 0.16862745098039217, 0...</td>\n",
       "    </tr>\n",
       "    <tr>\n",
       "      <th>4</th>\n",
       "      <td>image2128.jpg</td>\n",
       "      <td>Attire</td>\n",
       "      <td>[[[0.6627450980392157, 0.6549019607843137, 0.6...</td>\n",
       "    </tr>\n",
       "  </tbody>\n",
       "</table>\n",
       "</div>"
      ],
      "text/plain": [
       "            Image   Class                                          imageData\n",
       "0   image7042.jpg    Food  [[[0.17647058823529413, 0.17647058823529413, 0...\n",
       "1   image3327.jpg    misc  [[[0.38823529411764707, 0.47058823529411764, 0...\n",
       "2  image10335.jpg  Attire  [[[0.027450980392156862, 0.058823529411764705,...\n",
       "3   image8019.jpg    Food  [[[0.10588235294117647, 0.16862745098039217, 0...\n",
       "4   image2128.jpg  Attire  [[[0.6627450980392157, 0.6549019607843137, 0.6..."
      ]
     },
     "execution_count": 7,
     "metadata": {},
     "output_type": "execute_result"
    }
   ],
   "source": [
    "df = pd.merge(df, temp, on = \"Image\")\n",
    "df.head()"
   ]
  },
  {
   "cell_type": "code",
   "execution_count": 8,
   "metadata": {},
   "outputs": [
    {
     "data": {
      "text/html": [
       "<div>\n",
       "<style scoped>\n",
       "    .dataframe tbody tr th:only-of-type {\n",
       "        vertical-align: middle;\n",
       "    }\n",
       "\n",
       "    .dataframe tbody tr th {\n",
       "        vertical-align: top;\n",
       "    }\n",
       "\n",
       "    .dataframe thead th {\n",
       "        text-align: right;\n",
       "    }\n",
       "</style>\n",
       "<table border=\"1\" class=\"dataframe\">\n",
       "  <thead>\n",
       "    <tr style=\"text-align: right;\">\n",
       "      <th></th>\n",
       "      <th>Image</th>\n",
       "      <th>Class</th>\n",
       "      <th>imageData</th>\n",
       "    </tr>\n",
       "  </thead>\n",
       "  <tbody>\n",
       "    <tr>\n",
       "      <th>0</th>\n",
       "      <td>image7042.jpg</td>\n",
       "      <td>2</td>\n",
       "      <td>[[[0.17647058823529413, 0.17647058823529413, 0...</td>\n",
       "    </tr>\n",
       "    <tr>\n",
       "      <th>1</th>\n",
       "      <td>image3327.jpg</td>\n",
       "      <td>3</td>\n",
       "      <td>[[[0.38823529411764707, 0.47058823529411764, 0...</td>\n",
       "    </tr>\n",
       "    <tr>\n",
       "      <th>2</th>\n",
       "      <td>image10335.jpg</td>\n",
       "      <td>0</td>\n",
       "      <td>[[[0.027450980392156862, 0.058823529411764705,...</td>\n",
       "    </tr>\n",
       "    <tr>\n",
       "      <th>3</th>\n",
       "      <td>image8019.jpg</td>\n",
       "      <td>2</td>\n",
       "      <td>[[[0.10588235294117647, 0.16862745098039217, 0...</td>\n",
       "    </tr>\n",
       "    <tr>\n",
       "      <th>4</th>\n",
       "      <td>image2128.jpg</td>\n",
       "      <td>0</td>\n",
       "      <td>[[[0.6627450980392157, 0.6549019607843137, 0.6...</td>\n",
       "    </tr>\n",
       "  </tbody>\n",
       "</table>\n",
       "</div>"
      ],
      "text/plain": [
       "            Image  Class                                          imageData\n",
       "0   image7042.jpg      2  [[[0.17647058823529413, 0.17647058823529413, 0...\n",
       "1   image3327.jpg      3  [[[0.38823529411764707, 0.47058823529411764, 0...\n",
       "2  image10335.jpg      0  [[[0.027450980392156862, 0.058823529411764705,...\n",
       "3   image8019.jpg      2  [[[0.10588235294117647, 0.16862745098039217, 0...\n",
       "4   image2128.jpg      0  [[[0.6627450980392157, 0.6549019607843137, 0.6..."
      ]
     },
     "execution_count": 8,
     "metadata": {},
     "output_type": "execute_result"
    }
   ],
   "source": [
    "le = LabelEncoder()\n",
    "df[\"Class\"] = le.fit_transform(df.Class)\n",
    "df.head()"
   ]
  },
  {
   "cell_type": "code",
   "execution_count": 9,
   "metadata": {},
   "outputs": [
    {
     "data": {
      "text/plain": [
       "array([2, 3, 0, 1])"
      ]
     },
     "execution_count": 9,
     "metadata": {},
     "output_type": "execute_result"
    }
   ],
   "source": [
    "df.Class.unique()"
   ]
  },
  {
   "cell_type": "code",
   "execution_count": 10,
   "metadata": {},
   "outputs": [
    {
     "data": {
      "text/plain": [
       "array(['Food', 'misc', 'Attire', ..., 'Food', 'Food', 'Attire'],\n",
       "      dtype=object)"
      ]
     },
     "execution_count": 10,
     "metadata": {},
     "output_type": "execute_result"
    }
   ],
   "source": [
    "le.inverse_transform(df.Class)"
   ]
  },
  {
   "cell_type": "code",
   "execution_count": 11,
   "metadata": {},
   "outputs": [],
   "source": [
    "x = []\n",
    "y = []\n",
    "\n",
    "for i in range(len(df)):\n",
    "    x.append(df.imageData[i])\n",
    "    y.append(df.Class[i])\n",
    "    \n",
    "x = np.array(x)\n",
    "y = np.array(y)\n",
    "y = to_categorical(y)"
   ]
  },
  {
   "cell_type": "code",
   "execution_count": 12,
   "metadata": {},
   "outputs": [],
   "source": [
    "def buildModel():\n",
    "    baseModel = MobileNet(input_shape=(60, 60, 3), weights='imagenet',include_top=False)\n",
    "    model = Sequential([baseModel])\n",
    "    model.add(GlobalAveragePooling2D())\n",
    "    \n",
    "    model.add(Dense(64, activation='relu'))\n",
    "    model.add(Dense(32, activation='relu'))\n",
    "    \n",
    "    model.add(Dense(4, activation='softmax'))\n",
    "    \n",
    "    model.compile(optimizer='Adam', loss='categorical_crossentropy', metrics=['accuracy'])\n",
    "    \n",
    "    return model"
   ]
  },
  {
   "cell_type": "code",
   "execution_count": 13,
   "metadata": {},
   "outputs": [],
   "source": [
    "checkpoint = ModelCheckpoint(\"weights/transferLearning/model-{epoch:02d}-{val_accuracy:.2f}.hdf5\", monitor='val_accuracy', verbose=1, save_best_only=True, mode='max')\n",
    "callbacks_list = [checkpoint]"
   ]
  },
  {
   "cell_type": "code",
   "execution_count": 14,
   "metadata": {
    "scrolled": true
   },
   "outputs": [
    {
     "name": "stderr",
     "output_type": "stream",
     "text": [
      "/home/aman/.local/lib/python3.7/site-packages/keras_applications/mobilenet.py:207: UserWarning: `input_shape` is undefined or non-square, or `rows` is not in [128, 160, 192, 224]. Weights for input shape (224, 224) will be loaded as the default.\n",
      "  warnings.warn('`input_shape` is undefined or non-square, '\n"
     ]
    },
    {
     "name": "stdout",
     "output_type": "stream",
     "text": [
      "WARNING:tensorflow:From /home/aman/.local/lib/python3.7/site-packages/keras/backend/tensorflow_backend.py:422: The name tf.global_variables is deprecated. Please use tf.compat.v1.global_variables instead.\n",
      "\n",
      "Train on 4786 samples, validate on 1197 samples\n",
      "Epoch 1/100\n",
      "4786/4786 [==============================] - 77s 16ms/step - loss: 1.2764 - accuracy: 0.4352 - val_loss: 1.2206 - val_accuracy: 0.4528\n",
      "Epoch 2/100\n",
      "4786/4786 [==============================] - 75s 16ms/step - loss: 1.1180 - accuracy: 0.5207 - val_loss: 1.0897 - val_accuracy: 0.5188\n",
      "Epoch 3/100\n",
      "4786/4786 [==============================] - 74s 15ms/step - loss: 1.0613 - accuracy: 0.5583 - val_loss: 1.1083 - val_accuracy: 0.5246\n",
      "Epoch 4/100\n",
      "4786/4786 [==============================] - 75s 16ms/step - loss: 0.9866 - accuracy: 0.5919 - val_loss: 1.0650 - val_accuracy: 0.5380\n",
      "Epoch 5/100\n",
      "4786/4786 [==============================] - 77s 16ms/step - loss: 0.9311 - accuracy: 0.6199 - val_loss: 1.0506 - val_accuracy: 0.5831\n",
      "Epoch 6/100\n",
      "4786/4786 [==============================] - 76s 16ms/step - loss: 0.8517 - accuracy: 0.6582 - val_loss: 1.0670 - val_accuracy: 0.5547\n",
      "Epoch 7/100\n",
      "4786/4786 [==============================] - 76s 16ms/step - loss: 0.7746 - accuracy: 0.6926 - val_loss: 1.2063 - val_accuracy: 0.5088\n",
      "Epoch 8/100\n",
      "4786/4786 [==============================] - 76s 16ms/step - loss: 0.7499 - accuracy: 0.7064 - val_loss: 1.4216 - val_accuracy: 0.5096\n",
      "Epoch 9/100\n",
      "4786/4786 [==============================] - 77s 16ms/step - loss: 0.6517 - accuracy: 0.7499 - val_loss: 1.2754 - val_accuracy: 0.5330\n",
      "Epoch 10/100\n",
      "4786/4786 [==============================] - 75s 16ms/step - loss: 0.5980 - accuracy: 0.7752 - val_loss: 1.4217 - val_accuracy: 0.4486\n",
      "Epoch 11/100\n",
      "4786/4786 [==============================] - 75s 16ms/step - loss: 0.5375 - accuracy: 0.7942 - val_loss: 1.3170 - val_accuracy: 0.5255\n",
      "Epoch 12/100\n",
      "4786/4786 [==============================] - 74s 16ms/step - loss: 0.4801 - accuracy: 0.8266 - val_loss: 1.3742 - val_accuracy: 0.4971\n",
      "Epoch 13/100\n",
      "4786/4786 [==============================] - 75s 16ms/step - loss: 0.4276 - accuracy: 0.8450 - val_loss: 1.3711 - val_accuracy: 0.5305\n",
      "Epoch 14/100\n",
      "4786/4786 [==============================] - 77s 16ms/step - loss: 0.3869 - accuracy: 0.8619 - val_loss: 1.7621 - val_accuracy: 0.4820\n",
      "Epoch 15/100\n",
      "4786/4786 [==============================] - 75s 16ms/step - loss: 0.3267 - accuracy: 0.8836 - val_loss: 1.5223 - val_accuracy: 0.5146\n",
      "Epoch 16/100\n",
      "4786/4786 [==============================] - 75s 16ms/step - loss: 0.3175 - accuracy: 0.8868 - val_loss: 1.4960 - val_accuracy: 0.4812\n",
      "Epoch 17/100\n",
      "4786/4786 [==============================] - 74s 16ms/step - loss: 0.3072 - accuracy: 0.8941 - val_loss: 1.5612 - val_accuracy: 0.5129\n",
      "Epoch 18/100\n",
      "4786/4786 [==============================] - 75s 16ms/step - loss: 0.2734 - accuracy: 0.8997 - val_loss: 1.6461 - val_accuracy: 0.5096\n",
      "Epoch 19/100\n",
      "4786/4786 [==============================] - 75s 16ms/step - loss: 0.2360 - accuracy: 0.9200 - val_loss: 2.1623 - val_accuracy: 0.5288\n",
      "Epoch 20/100\n",
      "4786/4786 [==============================] - 74s 15ms/step - loss: 0.2606 - accuracy: 0.9116 - val_loss: 1.6315 - val_accuracy: 0.4845\n",
      "Epoch 21/100\n",
      "4786/4786 [==============================] - 75s 16ms/step - loss: 0.2522 - accuracy: 0.9095 - val_loss: 1.6423 - val_accuracy: 0.5388\n",
      "Epoch 22/100\n",
      "4786/4786 [==============================] - 74s 15ms/step - loss: 0.2021 - accuracy: 0.9306 - val_loss: 1.6783 - val_accuracy: 0.5280\n",
      "Epoch 23/100\n",
      "4786/4786 [==============================] - 75s 16ms/step - loss: 0.2170 - accuracy: 0.9262 - val_loss: 1.8399 - val_accuracy: 0.5054\n",
      "Epoch 24/100\n",
      "4786/4786 [==============================] - 74s 16ms/step - loss: 0.1497 - accuracy: 0.9476 - val_loss: 1.9473 - val_accuracy: 0.4887\n",
      "Epoch 25/100\n",
      "4786/4786 [==============================] - 75s 16ms/step - loss: 0.1627 - accuracy: 0.9446 - val_loss: 1.6984 - val_accuracy: 0.5063\n",
      "Epoch 26/100\n",
      "4786/4786 [==============================] - 73s 15ms/step - loss: 0.1926 - accuracy: 0.9386 - val_loss: 1.7223 - val_accuracy: 0.5280\n",
      "Epoch 27/100\n",
      "4786/4786 [==============================] - 73s 15ms/step - loss: 0.1303 - accuracy: 0.9616 - val_loss: 1.7431 - val_accuracy: 0.4971\n",
      "Epoch 28/100\n",
      "4786/4786 [==============================] - 73s 15ms/step - loss: 0.1284 - accuracy: 0.9576 - val_loss: 1.9433 - val_accuracy: 0.5171\n",
      "Epoch 29/100\n",
      "4786/4786 [==============================] - 73s 15ms/step - loss: 0.1638 - accuracy: 0.9473 - val_loss: 2.0598 - val_accuracy: 0.4319\n",
      "Epoch 30/100\n",
      "4786/4786 [==============================] - 73s 15ms/step - loss: 0.1617 - accuracy: 0.9465 - val_loss: 1.7646 - val_accuracy: 0.5439\n",
      "Epoch 31/100\n",
      "4786/4786 [==============================] - 73s 15ms/step - loss: 0.1401 - accuracy: 0.9574 - val_loss: 1.6281 - val_accuracy: 0.5238\n",
      "Epoch 32/100\n",
      "4786/4786 [==============================] - 76s 16ms/step - loss: 0.1201 - accuracy: 0.9618 - val_loss: 1.9201 - val_accuracy: 0.5297\n",
      "Epoch 33/100\n",
      "4786/4786 [==============================] - 74s 16ms/step - loss: 0.1367 - accuracy: 0.9574 - val_loss: 2.1269 - val_accuracy: 0.5213\n",
      "Epoch 34/100\n",
      "4786/4786 [==============================] - 75s 16ms/step - loss: 0.1500 - accuracy: 0.9494 - val_loss: 1.8737 - val_accuracy: 0.5297\n",
      "Epoch 35/100\n",
      "4786/4786 [==============================] - 76s 16ms/step - loss: 0.1658 - accuracy: 0.9465 - val_loss: 1.9195 - val_accuracy: 0.5188\n",
      "Epoch 36/100\n",
      "4786/4786 [==============================] - 76s 16ms/step - loss: 0.1129 - accuracy: 0.9645 - val_loss: 1.7586 - val_accuracy: 0.4979\n",
      "Epoch 37/100\n",
      "4786/4786 [==============================] - 73s 15ms/step - loss: 0.1247 - accuracy: 0.9603 - val_loss: 1.8550 - val_accuracy: 0.5464\n",
      "Epoch 38/100\n",
      "4786/4786 [==============================] - 73s 15ms/step - loss: 0.1180 - accuracy: 0.9628 - val_loss: 1.8612 - val_accuracy: 0.5455\n",
      "Epoch 39/100\n",
      "4786/4786 [==============================] - 73s 15ms/step - loss: 0.1197 - accuracy: 0.9632 - val_loss: 1.6040 - val_accuracy: 0.5205\n",
      "Epoch 40/100\n",
      "4786/4786 [==============================] - 73s 15ms/step - loss: 0.0986 - accuracy: 0.9701 - val_loss: 1.8749 - val_accuracy: 0.4929\n",
      "Epoch 41/100\n",
      "4786/4786 [==============================] - 73s 15ms/step - loss: 0.1226 - accuracy: 0.9580 - val_loss: 1.8048 - val_accuracy: 0.5121\n",
      "Epoch 42/100\n",
      "4786/4786 [==============================] - 73s 15ms/step - loss: 0.0864 - accuracy: 0.9689 - val_loss: 1.8781 - val_accuracy: 0.5196\n",
      "Epoch 43/100\n",
      "4786/4786 [==============================] - 73s 15ms/step - loss: 0.1109 - accuracy: 0.9634 - val_loss: 2.3418 - val_accuracy: 0.4461\n",
      "Epoch 44/100\n",
      "4786/4786 [==============================] - 73s 15ms/step - loss: 0.0864 - accuracy: 0.9735 - val_loss: 1.9684 - val_accuracy: 0.5180\n",
      "Epoch 45/100\n",
      "4786/4786 [==============================] - 73s 15ms/step - loss: 0.0969 - accuracy: 0.9693 - val_loss: 1.7709 - val_accuracy: 0.5255\n",
      "Epoch 46/100\n",
      "4786/4786 [==============================] - 73s 15ms/step - loss: 0.0783 - accuracy: 0.9760 - val_loss: 1.9048 - val_accuracy: 0.5188\n",
      "Epoch 47/100\n",
      "4786/4786 [==============================] - 73s 15ms/step - loss: 0.0923 - accuracy: 0.9699 - val_loss: 1.6917 - val_accuracy: 0.5280\n",
      "Epoch 48/100\n",
      "4786/4786 [==============================] - 75s 16ms/step - loss: 0.0870 - accuracy: 0.9703 - val_loss: 1.7866 - val_accuracy: 0.5213\n",
      "Epoch 49/100\n",
      "4786/4786 [==============================] - 76s 16ms/step - loss: 0.0796 - accuracy: 0.9730 - val_loss: 1.6166 - val_accuracy: 0.5238\n",
      "Epoch 50/100\n",
      "4786/4786 [==============================] - 73s 15ms/step - loss: 0.1049 - accuracy: 0.9672 - val_loss: 1.7922 - val_accuracy: 0.5347\n",
      "Epoch 51/100\n",
      "4786/4786 [==============================] - 73s 15ms/step - loss: 0.0669 - accuracy: 0.9802 - val_loss: 1.9814 - val_accuracy: 0.4887\n",
      "Epoch 52/100\n",
      "4786/4786 [==============================] - 73s 15ms/step - loss: 0.0857 - accuracy: 0.9695 - val_loss: 1.7965 - val_accuracy: 0.4979\n",
      "Epoch 53/100\n",
      "4786/4786 [==============================] - 73s 15ms/step - loss: 0.1083 - accuracy: 0.9645 - val_loss: 2.0215 - val_accuracy: 0.5063\n",
      "Epoch 54/100\n",
      "4786/4786 [==============================] - 73s 15ms/step - loss: 0.1214 - accuracy: 0.9603 - val_loss: 2.1672 - val_accuracy: 0.5205\n"
     ]
    },
    {
     "name": "stdout",
     "output_type": "stream",
     "text": [
      "Epoch 55/100\n",
      "4786/4786 [==============================] - 73s 15ms/step - loss: 0.0864 - accuracy: 0.9718 - val_loss: 1.7796 - val_accuracy: 0.4653\n",
      "Epoch 56/100\n",
      "4786/4786 [==============================] - 72s 15ms/step - loss: 0.0685 - accuracy: 0.9785 - val_loss: 1.7984 - val_accuracy: 0.5372\n",
      "Epoch 57/100\n",
      "4786/4786 [==============================] - 73s 15ms/step - loss: 0.0719 - accuracy: 0.9747 - val_loss: 1.8830 - val_accuracy: 0.5146\n",
      "Epoch 58/100\n",
      "4786/4786 [==============================] - 73s 15ms/step - loss: 0.0723 - accuracy: 0.9749 - val_loss: 1.8906 - val_accuracy: 0.4996\n",
      "Epoch 59/100\n",
      "4786/4786 [==============================] - 72s 15ms/step - loss: 0.0665 - accuracy: 0.9760 - val_loss: 1.9154 - val_accuracy: 0.5104\n",
      "Epoch 60/100\n",
      "4786/4786 [==============================] - 73s 15ms/step - loss: 0.0571 - accuracy: 0.9795 - val_loss: 2.4495 - val_accuracy: 0.5221\n",
      "Epoch 61/100\n",
      "4786/4786 [==============================] - 72s 15ms/step - loss: 0.0774 - accuracy: 0.9743 - val_loss: 1.8977 - val_accuracy: 0.5171\n",
      "Epoch 62/100\n",
      "4786/4786 [==============================] - 73s 15ms/step - loss: 0.0801 - accuracy: 0.9701 - val_loss: 1.9391 - val_accuracy: 0.5305\n",
      "Epoch 63/100\n",
      "4786/4786 [==============================] - 73s 15ms/step - loss: 0.0729 - accuracy: 0.9770 - val_loss: 1.7636 - val_accuracy: 0.5305\n",
      "Epoch 64/100\n",
      "4786/4786 [==============================] - 72s 15ms/step - loss: 0.0778 - accuracy: 0.9772 - val_loss: 1.7678 - val_accuracy: 0.5230\n",
      "Epoch 65/100\n",
      "4786/4786 [==============================] - 73s 15ms/step - loss: 0.0679 - accuracy: 0.9779 - val_loss: 2.0407 - val_accuracy: 0.5188\n",
      "Epoch 66/100\n",
      "4786/4786 [==============================] - 72s 15ms/step - loss: 0.0396 - accuracy: 0.9889 - val_loss: 1.9495 - val_accuracy: 0.5221\n",
      "Epoch 67/100\n",
      "4786/4786 [==============================] - 73s 15ms/step - loss: 0.0281 - accuracy: 0.9898 - val_loss: 2.2519 - val_accuracy: 0.5079\n",
      "Epoch 68/100\n",
      "4786/4786 [==============================] - 73s 15ms/step - loss: 0.0332 - accuracy: 0.9891 - val_loss: 2.1625 - val_accuracy: 0.5246\n",
      "Epoch 69/100\n",
      "4786/4786 [==============================] - 72s 15ms/step - loss: 0.0773 - accuracy: 0.9745 - val_loss: 1.9356 - val_accuracy: 0.5205\n",
      "Epoch 70/100\n",
      "4786/4786 [==============================] - 73s 15ms/step - loss: 0.0553 - accuracy: 0.9829 - val_loss: 1.9564 - val_accuracy: 0.4478\n",
      "Epoch 71/100\n",
      "4786/4786 [==============================] - 72s 15ms/step - loss: 0.0645 - accuracy: 0.9789 - val_loss: 1.8251 - val_accuracy: 0.4453\n",
      "Epoch 72/100\n",
      "4786/4786 [==============================] - 73s 15ms/step - loss: 0.0717 - accuracy: 0.9749 - val_loss: 2.1170 - val_accuracy: 0.5079\n",
      "Epoch 73/100\n",
      "4786/4786 [==============================] - 73s 15ms/step - loss: 0.0714 - accuracy: 0.9772 - val_loss: 1.9947 - val_accuracy: 0.5338\n",
      "Epoch 74/100\n",
      "4786/4786 [==============================] - 72s 15ms/step - loss: 0.0776 - accuracy: 0.9785 - val_loss: 1.7126 - val_accuracy: 0.5071\n",
      "Epoch 75/100\n",
      "4786/4786 [==============================] - 73s 15ms/step - loss: 0.0690 - accuracy: 0.9766 - val_loss: 1.9139 - val_accuracy: 0.5305\n",
      "Epoch 76/100\n",
      "4786/4786 [==============================] - 72s 15ms/step - loss: 0.0537 - accuracy: 0.9822 - val_loss: 1.7622 - val_accuracy: 0.5155\n",
      "Epoch 77/100\n",
      "4786/4786 [==============================] - 73s 15ms/step - loss: 0.0671 - accuracy: 0.9766 - val_loss: 2.0580 - val_accuracy: 0.4987\n",
      "Epoch 78/100\n",
      "4786/4786 [==============================] - 73s 15ms/step - loss: 0.0586 - accuracy: 0.9804 - val_loss: 2.0958 - val_accuracy: 0.4837\n",
      "Epoch 79/100\n",
      "4786/4786 [==============================] - 72s 15ms/step - loss: 0.0763 - accuracy: 0.9741 - val_loss: 2.4192 - val_accuracy: 0.5146\n",
      "Epoch 80/100\n",
      "4786/4786 [==============================] - 73s 15ms/step - loss: 0.0584 - accuracy: 0.9812 - val_loss: 2.0246 - val_accuracy: 0.5439\n",
      "Epoch 81/100\n",
      "4786/4786 [==============================] - 72s 15ms/step - loss: 0.0419 - accuracy: 0.9852 - val_loss: 2.1120 - val_accuracy: 0.5096\n",
      "Epoch 82/100\n",
      "4786/4786 [==============================] - 73s 15ms/step - loss: 0.0495 - accuracy: 0.9837 - val_loss: 2.1055 - val_accuracy: 0.5497\n",
      "Epoch 83/100\n",
      "4786/4786 [==============================] - 73s 15ms/step - loss: 0.0536 - accuracy: 0.9820 - val_loss: 1.8452 - val_accuracy: 0.5272\n",
      "Epoch 84/100\n",
      "4786/4786 [==============================] - 72s 15ms/step - loss: 0.0576 - accuracy: 0.9795 - val_loss: 1.9311 - val_accuracy: 0.5213\n",
      "Epoch 85/100\n",
      "4786/4786 [==============================] - 73s 15ms/step - loss: 0.0569 - accuracy: 0.9791 - val_loss: 2.1188 - val_accuracy: 0.5430\n",
      "Epoch 86/100\n",
      "4786/4786 [==============================] - 72s 15ms/step - loss: 0.0578 - accuracy: 0.9797 - val_loss: 1.8746 - val_accuracy: 0.5238\n",
      "Epoch 87/100\n",
      "4786/4786 [==============================] - 73s 15ms/step - loss: 0.0640 - accuracy: 0.9793 - val_loss: 2.2148 - val_accuracy: 0.5213\n",
      "Epoch 88/100\n",
      "4786/4786 [==============================] - 73s 15ms/step - loss: 0.0485 - accuracy: 0.9856 - val_loss: 1.8485 - val_accuracy: 0.5297\n",
      "Epoch 89/100\n",
      "4786/4786 [==============================] - 75s 16ms/step - loss: 0.0416 - accuracy: 0.9866 - val_loss: 1.9107 - val_accuracy: 0.5071\n",
      "Epoch 90/100\n",
      "4786/4786 [==============================] - 75s 16ms/step - loss: 0.0530 - accuracy: 0.9806 - val_loss: 2.3336 - val_accuracy: 0.5288\n",
      "Epoch 91/100\n",
      "4786/4786 [==============================] - 75s 16ms/step - loss: 0.0579 - accuracy: 0.9816 - val_loss: 2.6115 - val_accuracy: 0.5188\n",
      "Epoch 92/100\n",
      "4786/4786 [==============================] - 74s 15ms/step - loss: 0.0642 - accuracy: 0.9808 - val_loss: 1.9700 - val_accuracy: 0.5071\n",
      "Epoch 93/100\n",
      "4786/4786 [==============================] - 75s 16ms/step - loss: 0.0645 - accuracy: 0.9824 - val_loss: 1.8546 - val_accuracy: 0.5439\n",
      "Epoch 94/100\n",
      "4786/4786 [==============================] - 74s 16ms/step - loss: 0.0375 - accuracy: 0.9881 - val_loss: 1.7014 - val_accuracy: 0.5038\n",
      "Epoch 95/100\n",
      "4786/4786 [==============================] - 73s 15ms/step - loss: 0.0722 - accuracy: 0.9770 - val_loss: 1.9665 - val_accuracy: 0.5213\n",
      "Epoch 96/100\n",
      "4786/4786 [==============================] - 73s 15ms/step - loss: 0.0672 - accuracy: 0.9774 - val_loss: 2.0945 - val_accuracy: 0.5113\n",
      "Epoch 97/100\n",
      "4786/4786 [==============================] - 73s 15ms/step - loss: 0.0575 - accuracy: 0.9791 - val_loss: 1.9741 - val_accuracy: 0.5297\n",
      "Epoch 98/100\n",
      "4786/4786 [==============================] - 73s 15ms/step - loss: 0.0469 - accuracy: 0.9852 - val_loss: 1.7107 - val_accuracy: 0.5305\n",
      "Epoch 99/100\n",
      "4786/4786 [==============================] - 73s 15ms/step - loss: 0.0411 - accuracy: 0.9860 - val_loss: 2.1181 - val_accuracy: 0.5297\n",
      "Epoch 100/100\n",
      "4786/4786 [==============================] - 73s 15ms/step - loss: 0.0626 - accuracy: 0.9774 - val_loss: 1.9061 - val_accuracy: 0.5096\n"
     ]
    },
    {
     "data": {
      "text/plain": [
       "<keras.callbacks.callbacks.History at 0x7fa485105240>"
      ]
     },
     "execution_count": 14,
     "metadata": {},
     "output_type": "execute_result"
    }
   ],
   "source": [
    "model = buildModel()\n",
    "model.fit(x, y, epochs=100, verbose=1, validation_split=0.2)"
   ]
  },
  {
   "cell_type": "code",
   "execution_count": 15,
   "metadata": {},
   "outputs": [
    {
     "name": "stdout",
     "output_type": "stream",
     "text": [
      "5983/5983 [==============================] - 18s 3ms/step\n"
     ]
    },
    {
     "data": {
      "text/plain": [
       "0.8911917209625244"
      ]
     },
     "execution_count": 15,
     "metadata": {},
     "output_type": "execute_result"
    }
   ],
   "source": [
    "_, accuracy = model.evaluate(x, y, verbose=1)\n",
    "accuracy"
   ]
  },
  {
   "cell_type": "code",
   "execution_count": 16,
   "metadata": {},
   "outputs": [
    {
     "data": {
      "text/plain": [
       "array([2, 3, 0, ..., 2, 2, 0])"
      ]
     },
     "execution_count": 16,
     "metadata": {},
     "output_type": "execute_result"
    }
   ],
   "source": [
    "np.argmax(model.predict(x), axis=1)"
   ]
  },
  {
   "cell_type": "code",
   "execution_count": 17,
   "metadata": {},
   "outputs": [
    {
     "data": {
      "text/plain": [
       "array([2, 3, 0, ..., 2, 2, 0])"
      ]
     },
     "execution_count": 17,
     "metadata": {},
     "output_type": "execute_result"
    }
   ],
   "source": [
    "np.argmax(y, axis=1)"
   ]
  },
  {
   "cell_type": "code",
   "execution_count": 18,
   "metadata": {},
   "outputs": [
    {
     "data": {
      "text/html": [
       "<div>\n",
       "<style scoped>\n",
       "    .dataframe tbody tr th:only-of-type {\n",
       "        vertical-align: middle;\n",
       "    }\n",
       "\n",
       "    .dataframe tbody tr th {\n",
       "        vertical-align: top;\n",
       "    }\n",
       "\n",
       "    .dataframe thead th {\n",
       "        text-align: right;\n",
       "    }\n",
       "</style>\n",
       "<table border=\"1\" class=\"dataframe\">\n",
       "  <thead>\n",
       "    <tr style=\"text-align: right;\">\n",
       "      <th></th>\n",
       "      <th>Image</th>\n",
       "    </tr>\n",
       "  </thead>\n",
       "  <tbody>\n",
       "    <tr>\n",
       "      <th>0</th>\n",
       "      <td>image6245.jpg</td>\n",
       "    </tr>\n",
       "    <tr>\n",
       "      <th>1</th>\n",
       "      <td>image10409.jpg</td>\n",
       "    </tr>\n",
       "    <tr>\n",
       "      <th>2</th>\n",
       "      <td>image8692.jpg</td>\n",
       "    </tr>\n",
       "    <tr>\n",
       "      <th>3</th>\n",
       "      <td>image10517.jpg</td>\n",
       "    </tr>\n",
       "    <tr>\n",
       "      <th>4</th>\n",
       "      <td>image2580.jpg</td>\n",
       "    </tr>\n",
       "  </tbody>\n",
       "</table>\n",
       "</div>"
      ],
      "text/plain": [
       "            Image\n",
       "0   image6245.jpg\n",
       "1  image10409.jpg\n",
       "2   image8692.jpg\n",
       "3  image10517.jpg\n",
       "4   image2580.jpg"
      ]
     },
     "execution_count": 18,
     "metadata": {},
     "output_type": "execute_result"
    }
   ],
   "source": [
    "df = pd.read_csv(\"dataset/test.csv\")\n",
    "df.head()"
   ]
  },
  {
   "cell_type": "code",
   "execution_count": 19,
   "metadata": {},
   "outputs": [
    {
     "data": {
      "text/plain": [
       "3219"
      ]
     },
     "execution_count": 19,
     "metadata": {},
     "output_type": "execute_result"
    }
   ],
   "source": [
    "testPath = \"dataset/Test Images/\"\n",
    "Images = os.listdir(testPath)\n",
    "len(Images)"
   ]
  },
  {
   "cell_type": "code",
   "execution_count": 20,
   "metadata": {},
   "outputs": [
    {
     "data": {
      "text/plain": [
       "Image    0\n",
       "dtype: int64"
      ]
     },
     "execution_count": 20,
     "metadata": {},
     "output_type": "execute_result"
    }
   ],
   "source": [
    "df.isna().sum()"
   ]
  },
  {
   "cell_type": "code",
   "execution_count": 21,
   "metadata": {},
   "outputs": [
    {
     "data": {
      "text/html": [
       "<div>\n",
       "<style scoped>\n",
       "    .dataframe tbody tr th:only-of-type {\n",
       "        vertical-align: middle;\n",
       "    }\n",
       "\n",
       "    .dataframe tbody tr th {\n",
       "        vertical-align: top;\n",
       "    }\n",
       "\n",
       "    .dataframe thead th {\n",
       "        text-align: right;\n",
       "    }\n",
       "</style>\n",
       "<table border=\"1\" class=\"dataframe\">\n",
       "  <thead>\n",
       "    <tr style=\"text-align: right;\">\n",
       "      <th></th>\n",
       "      <th>Image</th>\n",
       "      <th>imageData</th>\n",
       "    </tr>\n",
       "  </thead>\n",
       "  <tbody>\n",
       "    <tr>\n",
       "      <th>0</th>\n",
       "      <td>image5761.jpg</td>\n",
       "      <td>[[[0.043137254901960784, 0.11372549019607843, ...</td>\n",
       "    </tr>\n",
       "    <tr>\n",
       "      <th>1</th>\n",
       "      <td>image7487.jpg</td>\n",
       "      <td>[[[0.2980392156862745, 0.34509803921568627, 0....</td>\n",
       "    </tr>\n",
       "    <tr>\n",
       "      <th>2</th>\n",
       "      <td>image4596.jpg</td>\n",
       "      <td>[[[0.0, 0.0, 0.0], [0.0, 0.0, 0.0], [0.0, 0.0,...</td>\n",
       "    </tr>\n",
       "    <tr>\n",
       "      <th>3</th>\n",
       "      <td>image8532.jpg</td>\n",
       "      <td>[[[0.9098039215686274, 0.6901960784313725, 0.3...</td>\n",
       "    </tr>\n",
       "    <tr>\n",
       "      <th>4</th>\n",
       "      <td>image1449.jpg</td>\n",
       "      <td>[[[0.5529411764705883, 0.596078431372549, 0.67...</td>\n",
       "    </tr>\n",
       "  </tbody>\n",
       "</table>\n",
       "</div>"
      ],
      "text/plain": [
       "           Image                                          imageData\n",
       "0  image5761.jpg  [[[0.043137254901960784, 0.11372549019607843, ...\n",
       "1  image7487.jpg  [[[0.2980392156862745, 0.34509803921568627, 0....\n",
       "2  image4596.jpg  [[[0.0, 0.0, 0.0], [0.0, 0.0, 0.0], [0.0, 0.0,...\n",
       "3  image8532.jpg  [[[0.9098039215686274, 0.6901960784313725, 0.3...\n",
       "4  image1449.jpg  [[[0.5529411764705883, 0.596078431372549, 0.67..."
      ]
     },
     "execution_count": 21,
     "metadata": {},
     "output_type": "execute_result"
    }
   ],
   "source": [
    "temp = []\n",
    "\n",
    "for i in range(len(df)):\n",
    "    img = cv2.imread(testPath + Images[i])\n",
    "    img = np.resize(img, (60, 60, 3))\n",
    "    img = img.astype('float')\n",
    "    img = img/255.0\n",
    "    \n",
    "    temp.append({\"Image\" : Images[i], \"imageData\" : img})\n",
    "\n",
    "temp = pd.DataFrame(temp)\n",
    "temp.head()"
   ]
  },
  {
   "cell_type": "code",
   "execution_count": 22,
   "metadata": {},
   "outputs": [
    {
     "data": {
      "text/html": [
       "<div>\n",
       "<style scoped>\n",
       "    .dataframe tbody tr th:only-of-type {\n",
       "        vertical-align: middle;\n",
       "    }\n",
       "\n",
       "    .dataframe tbody tr th {\n",
       "        vertical-align: top;\n",
       "    }\n",
       "\n",
       "    .dataframe thead th {\n",
       "        text-align: right;\n",
       "    }\n",
       "</style>\n",
       "<table border=\"1\" class=\"dataframe\">\n",
       "  <thead>\n",
       "    <tr style=\"text-align: right;\">\n",
       "      <th></th>\n",
       "      <th>Image</th>\n",
       "      <th>imageData</th>\n",
       "    </tr>\n",
       "  </thead>\n",
       "  <tbody>\n",
       "    <tr>\n",
       "      <th>0</th>\n",
       "      <td>image6245.jpg</td>\n",
       "      <td>[[[0.9921568627450981, 0.984313725490196, 0.98...</td>\n",
       "    </tr>\n",
       "    <tr>\n",
       "      <th>1</th>\n",
       "      <td>image10409.jpg</td>\n",
       "      <td>[[[0.0, 0.0, 0.011764705882352941], [0.0, 0.0,...</td>\n",
       "    </tr>\n",
       "    <tr>\n",
       "      <th>2</th>\n",
       "      <td>image8692.jpg</td>\n",
       "      <td>[[[0.3333333333333333, 0.36470588235294116, 0....</td>\n",
       "    </tr>\n",
       "    <tr>\n",
       "      <th>3</th>\n",
       "      <td>image10517.jpg</td>\n",
       "      <td>[[[0.4, 0.17647058823529413, 0.207843137254901...</td>\n",
       "    </tr>\n",
       "    <tr>\n",
       "      <th>4</th>\n",
       "      <td>image2580.jpg</td>\n",
       "      <td>[[[0.34901960784313724, 0.34901960784313724, 0...</td>\n",
       "    </tr>\n",
       "  </tbody>\n",
       "</table>\n",
       "</div>"
      ],
      "text/plain": [
       "            Image                                          imageData\n",
       "0   image6245.jpg  [[[0.9921568627450981, 0.984313725490196, 0.98...\n",
       "1  image10409.jpg  [[[0.0, 0.0, 0.011764705882352941], [0.0, 0.0,...\n",
       "2   image8692.jpg  [[[0.3333333333333333, 0.36470588235294116, 0....\n",
       "3  image10517.jpg  [[[0.4, 0.17647058823529413, 0.207843137254901...\n",
       "4   image2580.jpg  [[[0.34901960784313724, 0.34901960784313724, 0..."
      ]
     },
     "execution_count": 22,
     "metadata": {},
     "output_type": "execute_result"
    }
   ],
   "source": [
    "df = pd.merge(df, temp, on = \"Image\")\n",
    "df.head()"
   ]
  },
  {
   "cell_type": "code",
   "execution_count": 23,
   "metadata": {},
   "outputs": [],
   "source": [
    "x = []\n",
    "\n",
    "for i in range(len(df)):\n",
    "    x.append(df.imageData[i])\n",
    "    \n",
    "x = np.array(x)"
   ]
  },
  {
   "cell_type": "code",
   "execution_count": 24,
   "metadata": {},
   "outputs": [],
   "source": [
    "predict = np.argmax(model.predict(x), axis=1)"
   ]
  },
  {
   "cell_type": "code",
   "execution_count": 25,
   "metadata": {},
   "outputs": [
    {
     "data": {
      "text/plain": [
       "array([2, 0, 2, ..., 0, 2, 3])"
      ]
     },
     "execution_count": 25,
     "metadata": {},
     "output_type": "execute_result"
    }
   ],
   "source": [
    "predict"
   ]
  },
  {
   "cell_type": "code",
   "execution_count": 26,
   "metadata": {},
   "outputs": [
    {
     "data": {
      "text/plain": [
       "array(['Food', 'Attire', 'Food', ..., 'Attire', 'Food', 'misc'],\n",
       "      dtype=object)"
      ]
     },
     "execution_count": 26,
     "metadata": {},
     "output_type": "execute_result"
    }
   ],
   "source": [
    "predict = le.inverse_transform(predict)\n",
    "predict"
   ]
  },
  {
   "cell_type": "code",
   "execution_count": 27,
   "metadata": {},
   "outputs": [],
   "source": [
    "df[\"Class\"] = predict"
   ]
  },
  {
   "cell_type": "code",
   "execution_count": 28,
   "metadata": {},
   "outputs": [
    {
     "data": {
      "text/html": [
       "<div>\n",
       "<style scoped>\n",
       "    .dataframe tbody tr th:only-of-type {\n",
       "        vertical-align: middle;\n",
       "    }\n",
       "\n",
       "    .dataframe tbody tr th {\n",
       "        vertical-align: top;\n",
       "    }\n",
       "\n",
       "    .dataframe thead th {\n",
       "        text-align: right;\n",
       "    }\n",
       "</style>\n",
       "<table border=\"1\" class=\"dataframe\">\n",
       "  <thead>\n",
       "    <tr style=\"text-align: right;\">\n",
       "      <th></th>\n",
       "      <th>Image</th>\n",
       "      <th>imageData</th>\n",
       "      <th>Class</th>\n",
       "    </tr>\n",
       "  </thead>\n",
       "  <tbody>\n",
       "    <tr>\n",
       "      <th>0</th>\n",
       "      <td>image6245.jpg</td>\n",
       "      <td>[[[0.9921568627450981, 0.984313725490196, 0.98...</td>\n",
       "      <td>Food</td>\n",
       "    </tr>\n",
       "    <tr>\n",
       "      <th>1</th>\n",
       "      <td>image10409.jpg</td>\n",
       "      <td>[[[0.0, 0.0, 0.011764705882352941], [0.0, 0.0,...</td>\n",
       "      <td>Attire</td>\n",
       "    </tr>\n",
       "    <tr>\n",
       "      <th>2</th>\n",
       "      <td>image8692.jpg</td>\n",
       "      <td>[[[0.3333333333333333, 0.36470588235294116, 0....</td>\n",
       "      <td>Food</td>\n",
       "    </tr>\n",
       "    <tr>\n",
       "      <th>3</th>\n",
       "      <td>image10517.jpg</td>\n",
       "      <td>[[[0.4, 0.17647058823529413, 0.207843137254901...</td>\n",
       "      <td>misc</td>\n",
       "    </tr>\n",
       "    <tr>\n",
       "      <th>4</th>\n",
       "      <td>image2580.jpg</td>\n",
       "      <td>[[[0.34901960784313724, 0.34901960784313724, 0...</td>\n",
       "      <td>misc</td>\n",
       "    </tr>\n",
       "  </tbody>\n",
       "</table>\n",
       "</div>"
      ],
      "text/plain": [
       "            Image                                          imageData   Class\n",
       "0   image6245.jpg  [[[0.9921568627450981, 0.984313725490196, 0.98...    Food\n",
       "1  image10409.jpg  [[[0.0, 0.0, 0.011764705882352941], [0.0, 0.0,...  Attire\n",
       "2   image8692.jpg  [[[0.3333333333333333, 0.36470588235294116, 0....    Food\n",
       "3  image10517.jpg  [[[0.4, 0.17647058823529413, 0.207843137254901...    misc\n",
       "4   image2580.jpg  [[[0.34901960784313724, 0.34901960784313724, 0...    misc"
      ]
     },
     "execution_count": 28,
     "metadata": {},
     "output_type": "execute_result"
    }
   ],
   "source": [
    "df.head()"
   ]
  },
  {
   "cell_type": "code",
   "execution_count": 29,
   "metadata": {},
   "outputs": [],
   "source": [
    "df = df.drop(['imageData'], axis=1)"
   ]
  },
  {
   "cell_type": "code",
   "execution_count": 30,
   "metadata": {},
   "outputs": [
    {
     "data": {
      "text/html": [
       "<div>\n",
       "<style scoped>\n",
       "    .dataframe tbody tr th:only-of-type {\n",
       "        vertical-align: middle;\n",
       "    }\n",
       "\n",
       "    .dataframe tbody tr th {\n",
       "        vertical-align: top;\n",
       "    }\n",
       "\n",
       "    .dataframe thead th {\n",
       "        text-align: right;\n",
       "    }\n",
       "</style>\n",
       "<table border=\"1\" class=\"dataframe\">\n",
       "  <thead>\n",
       "    <tr style=\"text-align: right;\">\n",
       "      <th></th>\n",
       "      <th>Image</th>\n",
       "      <th>Class</th>\n",
       "    </tr>\n",
       "  </thead>\n",
       "  <tbody>\n",
       "    <tr>\n",
       "      <th>0</th>\n",
       "      <td>image6245.jpg</td>\n",
       "      <td>Food</td>\n",
       "    </tr>\n",
       "    <tr>\n",
       "      <th>1</th>\n",
       "      <td>image10409.jpg</td>\n",
       "      <td>Attire</td>\n",
       "    </tr>\n",
       "    <tr>\n",
       "      <th>2</th>\n",
       "      <td>image8692.jpg</td>\n",
       "      <td>Food</td>\n",
       "    </tr>\n",
       "    <tr>\n",
       "      <th>3</th>\n",
       "      <td>image10517.jpg</td>\n",
       "      <td>misc</td>\n",
       "    </tr>\n",
       "    <tr>\n",
       "      <th>4</th>\n",
       "      <td>image2580.jpg</td>\n",
       "      <td>misc</td>\n",
       "    </tr>\n",
       "  </tbody>\n",
       "</table>\n",
       "</div>"
      ],
      "text/plain": [
       "            Image   Class\n",
       "0   image6245.jpg    Food\n",
       "1  image10409.jpg  Attire\n",
       "2   image8692.jpg    Food\n",
       "3  image10517.jpg    misc\n",
       "4   image2580.jpg    misc"
      ]
     },
     "execution_count": 30,
     "metadata": {},
     "output_type": "execute_result"
    }
   ],
   "source": [
    "df.head()"
   ]
  },
  {
   "cell_type": "code",
   "execution_count": 31,
   "metadata": {},
   "outputs": [],
   "source": [
    "df.to_csv(\"output/output.csv\")"
   ]
  }
 ],
 "metadata": {
  "kernelspec": {
   "display_name": "Python 3",
   "language": "python",
   "name": "python3"
  },
  "language_info": {
   "codemirror_mode": {
    "name": "ipython",
    "version": 3
   },
   "file_extension": ".py",
   "mimetype": "text/x-python",
   "name": "python",
   "nbconvert_exporter": "python",
   "pygments_lexer": "ipython3",
   "version": "3.7.3"
  }
 },
 "nbformat": 4,
 "nbformat_minor": 4
}
